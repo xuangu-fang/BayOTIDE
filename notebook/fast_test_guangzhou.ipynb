{
 "cells": [
  {
   "cell_type": "code",
   "execution_count": 1,
   "metadata": {},
   "outputs": [
    {
     "name": "stdout",
     "output_type": "stream",
     "text": [
      "use device: cpu\n"
     ]
    },
    {
     "name": "stderr",
     "output_type": "stream",
     "text": [
      "100%|██████████| 500/500 [00:38<00:00, 12.98it/s]\n"
     ]
    },
    {
     "name": "stdout",
     "output_type": "stream",
     "text": [
      "after smooth, test_rmse = 3.67, test_MAE= 2.58\n"
     ]
    }
   ],
   "source": [
    "import numpy as np\n",
    "import torch \n",
    "import sys\n",
    "sys.path.append(\"../\")\n",
    "\n",
    "import tqdm\n",
    "import yaml\n",
    "torch.random.manual_seed(300)\n",
    "import matplotlib.pyplot as plt\n",
    "\n",
    "import utils_BayTIDE as utils\n",
    "\n",
    "from model_BayTIDE import BayTIDE\n",
    "\n",
    "from model_LDS import LDS_GP_streaming\n",
    "\n",
    "config_path = \"./config_guangzhou.yaml\"\n",
    "with open(config_path, \"r\") as f:\n",
    "    config = yaml.safe_load(f)\n",
    "\n",
    "data_file = config[\"data_path\"] # T=315 - rmse = 0.27 - Mqar23\n",
    "\n",
    "hyper_dict = utils.make_hyper_dict(config)\n",
    "\n",
    "data_dict = utils.make_data_dict(hyper_dict,data_file,fold=0)\n",
    "\n",
    "model = BayTIDE(hyper_dict,data_dict)\n",
    "\n",
    "model.reset()\n",
    "model.post_W_m = torch.ones_like(model.post_W_m).to(model.device)\n",
    "\n",
    "running_rmse = []\n",
    "# _, loss_dict = model.model_test(0)\n",
    "# running_rmse.append(loss_dict[\"test_RMSE\"])\n",
    "\n",
    "\n",
    "INNER_ITER = hyper_dict[\"INNER_ITER\"]\n",
    "EVALU_T = hyper_dict[\"EVALU_T\"]\n",
    "for epoch in range(1):\n",
    "    model.reset()\n",
    "    for T_id in tqdm.tqdm(range(model.T)):\n",
    "        model.filter_predict(T_id)\n",
    "        model.msg_llk_init()\n",
    "\n",
    "        # for inner_it in range(INNER_ITER):\n",
    "        for inner_it in range(INNER_ITER):\n",
    "        \n",
    "\n",
    "\n",
    "            flag = (inner_it == (INNER_ITER - 1))\n",
    "\n",
    "            model.msg_approx_W(T_id)\n",
    "            model.post_update_W(T_id)\n",
    "\n",
    "            model.msg_approx_U(T_id)\n",
    "            model.filter_update(T_id,flag)\n",
    "\n",
    "            model.msg_approx_tau(T_id)\n",
    "            model.post_update_tau(T_id)\n",
    "\n",
    "        # if T_id % EVALU_T == 0 or T_id == model.T - 1:\n",
    "\n",
    "        #     # we only need  this to get the running metric, otherwise we can skip this\n",
    "        #     # model.inner_smooth()\n",
    "            \n",
    "        #     _, loss_dict = model.model_test(T_id)\n",
    "        #     print(\"T_id = {}, train_rmse = {:.2f}, test_rmse= {:.2f},test_MAE= {:.2f}\".format(T_id, loss_dict[\"train_RMSE\"],\n",
    "        #      loss_dict[\"test_RMSE\"], loss_dict[\"test_MAE\"]))\n",
    "        #     running_rmse.append(loss_dict[\"test_RMSE\"])\n",
    "\n",
    "    model.smooth()\n",
    "    model.post_update_U_after_smooth(0)\n",
    "    _, loss_dict = model.model_test(T_id)\n",
    "    print(\"after smooth, test_rmse = {:.2f}, test_MAE= {:.2f}\".format(loss_dict[\"test_RMSE\"], loss_dict[\"test_MAE\"]))\n",
    "\n",
    "    running_rmse = np.array(running_rmse)\n",
    "\n"
   ]
  },
  {
   "cell_type": "code",
   "execution_count": 2,
   "metadata": {},
   "outputs": [
    {
     "data": {
      "text/plain": [
       "{'train_RMSE': array(3.2924943),\n",
       " 'train_MAE': array(2.30707643),\n",
       " 'valid_RMSE': array(3.68235379),\n",
       " 'valid_MAE': array(2.57019453),\n",
       " 'test_RMSE': array(3.67155288),\n",
       " 'test_MAE': array(2.576706)}"
      ]
     },
     "execution_count": 2,
     "metadata": {},
     "output_type": "execute_result"
    }
   ],
   "source": [
    "loss_dict"
   ]
  },
  {
   "cell_type": "code",
   "execution_count": 18,
   "metadata": {},
   "outputs": [
    {
     "name": "stdout",
     "output_type": "stream",
     "text": [
      "use device: cpu\n"
     ]
    },
    {
     "name": "stderr",
     "output_type": "stream",
     "text": [
      "  2%|▏         | 11/500 [00:00<00:04, 108.30it/s]"
     ]
    },
    {
     "name": "stdout",
     "output_type": "stream",
     "text": [
      "T_id = 0, train_rmse = 20.75, test_rmse= 20.64,test_MAE= 18.10\n"
     ]
    },
    {
     "name": "stderr",
     "output_type": "stream",
     "text": [
      "  8%|▊         | 42/500 [00:00<00:04, 95.34it/s] "
     ]
    },
    {
     "name": "stdout",
     "output_type": "stream",
     "text": [
      "T_id = 25, train_rmse = 20.50, test_rmse= 20.39,test_MAE= 17.74\n"
     ]
    },
    {
     "name": "stderr",
     "output_type": "stream",
     "text": [
      " 13%|█▎        | 66/500 [00:00<00:04, 95.10it/s]"
     ]
    },
    {
     "name": "stdout",
     "output_type": "stream",
     "text": [
      "T_id = 50, train_rmse = 20.38, test_rmse= 20.28,test_MAE= 17.59\n"
     ]
    },
    {
     "name": "stderr",
     "output_type": "stream",
     "text": [
      " 17%|█▋        | 87/500 [00:00<00:04, 99.05it/s]"
     ]
    },
    {
     "name": "stdout",
     "output_type": "stream",
     "text": [
      "T_id = 75, train_rmse = 19.91, test_rmse= 19.81,test_MAE= 17.04\n"
     ]
    },
    {
     "name": "stderr",
     "output_type": "stream",
     "text": [
      " 25%|██▌       | 125/500 [00:01<00:03, 108.39it/s]"
     ]
    },
    {
     "name": "stdout",
     "output_type": "stream",
     "text": [
      "T_id = 100, train_rmse = 19.13, test_rmse= 19.03,test_MAE= 16.29\n"
     ]
    },
    {
     "name": "stderr",
     "output_type": "stream",
     "text": [
      " 27%|██▋       | 137/500 [00:01<00:03, 99.58it/s] "
     ]
    },
    {
     "name": "stdout",
     "output_type": "stream",
     "text": [
      "T_id = 125, train_rmse = 18.71, test_rmse= 18.58,test_MAE= 15.86\n"
     ]
    },
    {
     "name": "stderr",
     "output_type": "stream",
     "text": [
      " 32%|███▏      | 162/500 [00:01<00:03, 93.35it/s]"
     ]
    },
    {
     "name": "stdout",
     "output_type": "stream",
     "text": [
      "T_id = 150, train_rmse = 18.50, test_rmse= 18.39,test_MAE= 15.64\n"
     ]
    },
    {
     "name": "stderr",
     "output_type": "stream",
     "text": [
      " 40%|████      | 200/500 [00:02<00:02, 102.40it/s]"
     ]
    },
    {
     "name": "stdout",
     "output_type": "stream",
     "text": [
      "T_id = 175, train_rmse = 18.43, test_rmse= 18.32,test_MAE= 15.56\n"
     ]
    },
    {
     "name": "stderr",
     "output_type": "stream",
     "text": [
      " 42%|████▏     | 211/500 [00:02<00:03, 88.23it/s] "
     ]
    },
    {
     "name": "stdout",
     "output_type": "stream",
     "text": [
      "T_id = 200, train_rmse = 18.30, test_rmse= 18.20,test_MAE= 15.42\n"
     ]
    },
    {
     "name": "stderr",
     "output_type": "stream",
     "text": [
      " 48%|████▊     | 238/500 [00:02<00:02, 93.35it/s]"
     ]
    },
    {
     "name": "stdout",
     "output_type": "stream",
     "text": [
      "T_id = 225, train_rmse = 17.62, test_rmse= 17.49,test_MAE= 14.75\n"
     ]
    },
    {
     "name": "stderr",
     "output_type": "stream",
     "text": [
      " 53%|█████▎    | 263/500 [00:02<00:02, 90.95it/s]"
     ]
    },
    {
     "name": "stdout",
     "output_type": "stream",
     "text": [
      "T_id = 250, train_rmse = 16.73, test_rmse= 16.56,test_MAE= 13.97\n"
     ]
    },
    {
     "name": "stderr",
     "output_type": "stream",
     "text": [
      " 58%|█████▊    | 290/500 [00:03<00:02, 92.09it/s]"
     ]
    },
    {
     "name": "stdout",
     "output_type": "stream",
     "text": [
      "T_id = 275, train_rmse = 16.41, test_rmse= 16.23,test_MAE= 13.67\n"
     ]
    },
    {
     "name": "stderr",
     "output_type": "stream",
     "text": [
      " 63%|██████▎   | 314/500 [00:03<00:02, 89.67it/s]"
     ]
    },
    {
     "name": "stdout",
     "output_type": "stream",
     "text": [
      "T_id = 300, train_rmse = 16.13, test_rmse= 15.95,test_MAE= 13.37\n"
     ]
    },
    {
     "name": "stderr",
     "output_type": "stream",
     "text": [
      " 69%|██████▉   | 345/500 [00:03<00:01, 80.36it/s]"
     ]
    },
    {
     "name": "stdout",
     "output_type": "stream",
     "text": [
      "T_id = 325, train_rmse = 16.09, test_rmse= 15.91,test_MAE= 13.33\n"
     ]
    },
    {
     "name": "stderr",
     "output_type": "stream",
     "text": [
      " 73%|███████▎  | 364/500 [00:04<00:02, 67.08it/s]"
     ]
    },
    {
     "name": "stdout",
     "output_type": "stream",
     "text": [
      "T_id = 350, train_rmse = 15.86, test_rmse= 15.69,test_MAE= 13.09\n"
     ]
    },
    {
     "name": "stderr",
     "output_type": "stream",
     "text": [
      " 79%|███████▊  | 393/500 [00:04<00:01, 72.47it/s]"
     ]
    },
    {
     "name": "stdout",
     "output_type": "stream",
     "text": [
      "T_id = 375, train_rmse = 15.07, test_rmse= 14.92,test_MAE= 12.48\n"
     ]
    },
    {
     "name": "stderr",
     "output_type": "stream",
     "text": [
      " 83%|████████▎ | 414/500 [00:04<00:01, 71.62it/s]"
     ]
    },
    {
     "name": "stdout",
     "output_type": "stream",
     "text": [
      "T_id = 400, train_rmse = 14.11, test_rmse= 13.96,test_MAE= 11.79\n"
     ]
    },
    {
     "name": "stderr",
     "output_type": "stream",
     "text": [
      " 88%|████████▊ | 438/500 [00:05<00:00, 72.58it/s]"
     ]
    },
    {
     "name": "stdout",
     "output_type": "stream",
     "text": [
      "T_id = 425, train_rmse = 13.92, test_rmse= 13.78,test_MAE= 11.62\n"
     ]
    },
    {
     "name": "stderr",
     "output_type": "stream",
     "text": [
      " 93%|█████████▎| 463/500 [00:05<00:00, 74.56it/s]"
     ]
    },
    {
     "name": "stdout",
     "output_type": "stream",
     "text": [
      "T_id = 450, train_rmse = 13.79, test_rmse= 13.64,test_MAE= 11.49\n"
     ]
    },
    {
     "name": "stderr",
     "output_type": "stream",
     "text": [
      " 98%|█████████▊| 490/500 [00:05<00:00, 75.87it/s]"
     ]
    },
    {
     "name": "stdout",
     "output_type": "stream",
     "text": [
      "T_id = 475, train_rmse = 13.79, test_rmse= 13.65,test_MAE= 11.50\n"
     ]
    },
    {
     "name": "stderr",
     "output_type": "stream",
     "text": [
      "100%|██████████| 500/500 [00:06<00:00, 79.82it/s]"
     ]
    },
    {
     "name": "stdout",
     "output_type": "stream",
     "text": [
      "T_id = 499, train_rmse = 13.52, test_rmse= 13.39,test_MAE= 11.29\n",
      "after smooth, test_rmse = 13.39, test_MAE= 11.29\n"
     ]
    },
    {
     "name": "stderr",
     "output_type": "stream",
     "text": [
      "\n"
     ]
    }
   ],
   "source": [
    "import numpy as np\n",
    "import torch \n",
    "import sys\n",
    "sys.path.append(\"../\")\n",
    "\n",
    "import tqdm\n",
    "import yaml\n",
    "torch.random.manual_seed(300)\n",
    "import matplotlib.pyplot as plt\n",
    "\n",
    "import utils_BayTIDE as utils\n",
    "\n",
    "from model_BayTIDE import BayTIDE\n",
    "\n",
    "from model_LDS import LDS_GP_streaming\n",
    "\n",
    "config_path = \"./config_guangzhou.yaml\"\n",
    "with open(config_path, \"r\") as f:\n",
    "    config = yaml.safe_load(f)\n",
    "\n",
    "data_file = config[\"data_path\"] # T=315 - rmse = 0.27 - Mqar23\n",
    "\n",
    "hyper_dict = utils.make_hyper_dict(config)\n",
    "\n",
    "data_dict = utils.make_data_dict(hyper_dict,data_file,fold=0)\n",
    "\n",
    "model = BayTIDE(hyper_dict,data_dict)\n",
    "\n",
    "# set Weight to be all ones and do not update it\n",
    "\n",
    "\n",
    "model.reset()\n",
    "\n",
    "running_rmse_no_weight = []\n",
    "# _, loss_dict = model.model_test(0)\n",
    "# running_rmse_no_weight.append(loss_dict[\"test_RMSE\"])\n",
    "model.post_W_m = torch.ones_like(model.post_W_m).to(model.device)\n",
    "\n",
    "INNER_ITER = hyper_dict[\"INNER_ITER\"]\n",
    "EVALU_T = hyper_dict[\"EVALU_T\"]\n",
    "for epoch in range(1):\n",
    "    model.reset()\n",
    "    for T_id in tqdm.tqdm(range(model.T)):\n",
    "        model.filter_predict(T_id)\n",
    "        model.msg_llk_init()\n",
    "\n",
    "        for inner_it in range(INNER_ITER):\n",
    "\n",
    "            flag = (inner_it == (INNER_ITER - 1))\n",
    "\n",
    "            # model.msg_approx_W(T_id)\n",
    "            # model.post_update_W(T_id)\n",
    "\n",
    "            model.msg_approx_U(T_id)\n",
    "            model.filter_update(T_id,flag)\n",
    "\n",
    "            # model.msg_approx_tau(T_id)\n",
    "            # model.post_update_tau(T_id)\n",
    "\n",
    "        if T_id % EVALU_T == 0 or T_id == model.T - 1:\n",
    "\n",
    "            model.inner_smooth()\n",
    "            # model.post_update_U_after_smooth(0)\n",
    "            \n",
    "            _, loss_dict = model.model_test(T_id)\n",
    "            print(\"T_id = {}, train_rmse = {:.2f}, test_rmse= {:.2f},test_MAE= {:.2f}\".format(T_id, loss_dict[\"train_RMSE\"],\n",
    "             loss_dict[\"test_RMSE\"], loss_dict[\"test_MAE\"]))\n",
    "            running_rmse_no_weight .append(loss_dict[\"test_RMSE\"])\n",
    "\n",
    "    model.smooth()\n",
    "    model.post_update_U_after_smooth(0)\n",
    "    _, loss_dict = model.model_test(T_id)\n",
    "    print(\"after smooth, test_rmse = {:.2f}, test_MAE= {:.2f}\".format(loss_dict[\"test_RMSE\"], loss_dict[\"test_MAE\"]))\n",
    "\n",
    "    running_rmse_no_weight  = np.array(running_rmse_no_weight)\n",
    "\n"
   ]
  },
  {
   "cell_type": "code",
   "execution_count": 43,
   "metadata": {},
   "outputs": [],
   "source": [
    "# save running result as .npy file\n",
    "np.save(\"running_rmse/guangzhou_running_rmse.npy\",running_rmse)\n",
    "np.save(\"running_rmse/guangzhou_running_rmse_no_weight.npy\",running_rmse_no_weight)"
   ]
  },
  {
   "cell_type": "code",
   "execution_count": 47,
   "metadata": {},
   "outputs": [
    {
     "data": {
      "image/png": "[encoded data removed]",
      "text/plain": [
       "<Figure size 640x480 with 1 Axes>"
      ]
     },
     "metadata": {},
     "output_type": "display_data"
    }
   ],
   "source": [
    "# plot the running rmse, with line and dots\n",
    "# plt.figure(figsize=(10,10))\n",
    "plt.plot(running_rmse,'o-', label = \"BayTIDE\", linewidth=3,markersize=10)\n",
    "plt.plot(running_rmse_no_weight,'o-', label = \"BayTIDE-no-weight\",linewidth=3, markersize=10)\n",
    "\n",
    "plt.xticks(ticks=[0,10, 20],labels=[0, 250,500],fontsize=20)\n",
    "plt.xlabel(\"Number of processed timestamp \",fontsize=18)\n",
    "\n",
    "plt.yticks(ticks =[4,20,30],fontsize=20)\n",
    "plt.ylabel(\"RMSE \",fontsize=35)\n",
    "\n",
    "plt.legend(fontsize=20)\n",
    "\n",
    "plt.savefig(\"./figs/running_rmse-guangzhou.pdf\",bbox_inches='tight')"
   ]
  }
 ],
 "metadata": {
  "kernelspec": {
   "display_name": "pytorch",
   "language": "python",
   "name": "python3"
  },
  "language_info": {
   "codemirror_mode": {
    "name": "ipython",
    "version": 3
   },
   "file_extension": ".py",
   "mimetype": "text/x-python",
   "name": "python",
   "nbconvert_exporter": "python",
   "pygments_lexer": "ipython3",
   "version": "3.10.8"
  },
  "orig_nbformat": 4
 },
 "nbformat": 4,
 "nbformat_minor": 2
}
