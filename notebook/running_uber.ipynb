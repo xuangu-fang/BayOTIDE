{
 "cells": [
  {
   "cell_type": "code",
   "execution_count": 1,
   "metadata": {},
   "outputs": [],
   "source": [
    "import numpy as np\n",
    "import torch \n",
    "import sys\n",
    "sys.path.append(\"../\")\n",
    "\n",
    "import tqdm\n",
    "import yaml\n",
    "torch.random.manual_seed(300)\n",
    "import matplotlib.pyplot as plt\n",
    "\n",
    "import utils_BayTIDE as utils\n",
    "\n",
    "from model_BayTIDE import BayTIDE\n",
    "\n",
    "from model_LDS import LDS_GP_streaming"
   ]
  },
  {
   "cell_type": "code",
   "execution_count": 3,
   "metadata": {},
   "outputs": [
    {
     "name": "stdout",
     "output_type": "stream",
     "text": [
      "use device: cuda\n"
     ]
    },
    {
     "name": "stderr",
     "output_type": "stream",
     "text": [
      "  0%|          | 3/744 [00:00<00:36, 20.05it/s]"
     ]
    },
    {
     "name": "stdout",
     "output_type": "stream",
     "text": [
      "T_id = 0, train_rmse = 7.08, test_rmse= 7.07,test_MAE= 5.71\n"
     ]
    },
    {
     "name": "stderr",
     "output_type": "stream",
     "text": [
      "  4%|▍         | 33/744 [00:01<00:44, 16.04it/s]"
     ]
    },
    {
     "name": "stdout",
     "output_type": "stream",
     "text": [
      "T_id = 30, train_rmse = 6.00, test_rmse= 5.99,test_MAE= 4.78\n"
     ]
    },
    {
     "name": "stderr",
     "output_type": "stream",
     "text": [
      "  9%|▊         | 65/744 [00:03<00:46, 14.63it/s]"
     ]
    },
    {
     "name": "stdout",
     "output_type": "stream",
     "text": [
      "T_id = 60, train_rmse = 5.79, test_rmse= 5.78,test_MAE= 4.57\n"
     ]
    },
    {
     "name": "stderr",
     "output_type": "stream",
     "text": [
      " 13%|█▎        | 94/744 [00:05<00:51, 12.58it/s]"
     ]
    },
    {
     "name": "stdout",
     "output_type": "stream",
     "text": [
      "T_id = 90, train_rmse = 5.67, test_rmse= 5.66,test_MAE= 4.43\n"
     ]
    },
    {
     "name": "stderr",
     "output_type": "stream",
     "text": [
      " 17%|█▋        | 125/744 [00:07<00:55, 11.17it/s]"
     ]
    },
    {
     "name": "stdout",
     "output_type": "stream",
     "text": [
      "T_id = 120, train_rmse = 5.56, test_rmse= 5.56,test_MAE= 4.31\n"
     ]
    },
    {
     "name": "stderr",
     "output_type": "stream",
     "text": [
      " 21%|██        | 155/744 [00:09<00:58, 10.00it/s]"
     ]
    },
    {
     "name": "stdout",
     "output_type": "stream",
     "text": [
      "T_id = 150, train_rmse = 5.47, test_rmse= 5.46,test_MAE= 4.22\n"
     ]
    },
    {
     "name": "stderr",
     "output_type": "stream",
     "text": [
      " 25%|██▍       | 183/744 [00:11<01:06,  8.50it/s]"
     ]
    },
    {
     "name": "stdout",
     "output_type": "stream",
     "text": [
      "T_id = 180, train_rmse = 5.40, test_rmse= 5.40,test_MAE= 4.13\n"
     ]
    },
    {
     "name": "stderr",
     "output_type": "stream",
     "text": [
      " 29%|██▊       | 213/744 [00:14<01:20,  6.63it/s]"
     ]
    },
    {
     "name": "stdout",
     "output_type": "stream",
     "text": [
      "T_id = 210, train_rmse = 5.30, test_rmse= 5.30,test_MAE= 4.01\n"
     ]
    },
    {
     "name": "stderr",
     "output_type": "stream",
     "text": [
      " 33%|███▎      | 243/744 [00:17<01:12,  6.88it/s]"
     ]
    },
    {
     "name": "stdout",
     "output_type": "stream",
     "text": [
      "T_id = 240, train_rmse = 5.20, test_rmse= 5.21,test_MAE= 3.90\n"
     ]
    },
    {
     "name": "stderr",
     "output_type": "stream",
     "text": [
      " 37%|███▋      | 274/744 [00:19<01:09,  6.78it/s]"
     ]
    },
    {
     "name": "stdout",
     "output_type": "stream",
     "text": [
      "T_id = 270, train_rmse = 5.05, test_rmse= 5.05,test_MAE= 3.74\n"
     ]
    },
    {
     "name": "stderr",
     "output_type": "stream",
     "text": [
      " 41%|████      | 304/744 [00:22<01:19,  5.52it/s]"
     ]
    },
    {
     "name": "stdout",
     "output_type": "stream",
     "text": [
      "T_id = 300, train_rmse = 4.91, test_rmse= 4.92,test_MAE= 3.61\n"
     ]
    },
    {
     "name": "stderr",
     "output_type": "stream",
     "text": [
      " 45%|████▍     | 333/744 [00:25<01:24,  4.85it/s]"
     ]
    },
    {
     "name": "stdout",
     "output_type": "stream",
     "text": [
      "T_id = 330, train_rmse = 4.82, test_rmse= 4.83,test_MAE= 3.51\n"
     ]
    },
    {
     "name": "stderr",
     "output_type": "stream",
     "text": [
      " 49%|████▉     | 365/744 [00:29<01:16,  4.98it/s]"
     ]
    },
    {
     "name": "stdout",
     "output_type": "stream",
     "text": [
      "T_id = 360, train_rmse = 4.72, test_rmse= 4.72,test_MAE= 3.39\n"
     ]
    },
    {
     "name": "stderr",
     "output_type": "stream",
     "text": [
      " 53%|█████▎    | 394/744 [00:32<01:22,  4.23it/s]"
     ]
    },
    {
     "name": "stdout",
     "output_type": "stream",
     "text": [
      "T_id = 390, train_rmse = 4.60, test_rmse= 4.61,test_MAE= 3.27\n"
     ]
    },
    {
     "name": "stderr",
     "output_type": "stream",
     "text": [
      " 57%|█████▋    | 424/744 [00:36<01:11,  4.46it/s]"
     ]
    },
    {
     "name": "stdout",
     "output_type": "stream",
     "text": [
      "T_id = 420, train_rmse = 4.49, test_rmse= 4.50,test_MAE= 3.15\n"
     ]
    },
    {
     "name": "stderr",
     "output_type": "stream",
     "text": [
      " 61%|██████    | 453/744 [00:40<01:15,  3.85it/s]"
     ]
    },
    {
     "name": "stdout",
     "output_type": "stream",
     "text": [
      "T_id = 450, train_rmse = 4.32, test_rmse= 4.34,test_MAE= 2.99\n"
     ]
    },
    {
     "name": "stderr",
     "output_type": "stream",
     "text": [
      " 65%|██████▌   | 484/744 [00:44<01:14,  3.51it/s]"
     ]
    },
    {
     "name": "stdout",
     "output_type": "stream",
     "text": [
      "T_id = 480, train_rmse = 4.15, test_rmse= 4.17,test_MAE= 2.85\n"
     ]
    },
    {
     "name": "stderr",
     "output_type": "stream",
     "text": [
      " 69%|██████▉   | 513/744 [00:48<01:02,  3.72it/s]"
     ]
    },
    {
     "name": "stdout",
     "output_type": "stream",
     "text": [
      "T_id = 510, train_rmse = 4.00, test_rmse= 4.02,test_MAE= 2.72\n"
     ]
    },
    {
     "name": "stderr",
     "output_type": "stream",
     "text": [
      " 73%|███████▎  | 544/744 [00:52<00:58,  3.40it/s]"
     ]
    },
    {
     "name": "stdout",
     "output_type": "stream",
     "text": [
      "T_id = 540, train_rmse = 3.85, test_rmse= 3.88,test_MAE= 2.60\n"
     ]
    },
    {
     "name": "stderr",
     "output_type": "stream",
     "text": [
      " 77%|███████▋  | 574/744 [00:56<00:56,  3.00it/s]"
     ]
    },
    {
     "name": "stdout",
     "output_type": "stream",
     "text": [
      "T_id = 570, train_rmse = 3.67, test_rmse= 3.70,test_MAE= 2.45\n"
     ]
    },
    {
     "name": "stderr",
     "output_type": "stream",
     "text": [
      " 81%|████████▏ | 605/744 [01:01<00:42,  3.30it/s]"
     ]
    },
    {
     "name": "stdout",
     "output_type": "stream",
     "text": [
      "T_id = 600, train_rmse = 3.45, test_rmse= 3.48,test_MAE= 2.28\n"
     ]
    },
    {
     "name": "stderr",
     "output_type": "stream",
     "text": [
      " 85%|████████▌ | 633/744 [01:06<00:40,  2.75it/s]"
     ]
    },
    {
     "name": "stdout",
     "output_type": "stream",
     "text": [
      "T_id = 630, train_rmse = 3.14, test_rmse= 3.15,test_MAE= 2.09\n"
     ]
    },
    {
     "name": "stderr",
     "output_type": "stream",
     "text": [
      " 89%|████████▉ | 665/744 [01:11<00:27,  2.86it/s]"
     ]
    },
    {
     "name": "stdout",
     "output_type": "stream",
     "text": [
      "T_id = 660, train_rmse = 2.93, test_rmse= 2.96,test_MAE= 1.96\n"
     ]
    },
    {
     "name": "stderr",
     "output_type": "stream",
     "text": [
      " 93%|█████████▎| 694/744 [01:16<00:19,  2.61it/s]"
     ]
    },
    {
     "name": "stdout",
     "output_type": "stream",
     "text": [
      "T_id = 690, train_rmse = 2.68, test_rmse= 2.71,test_MAE= 1.81\n"
     ]
    },
    {
     "name": "stderr",
     "output_type": "stream",
     "text": [
      " 97%|█████████▋| 724/744 [01:21<00:08,  2.44it/s]"
     ]
    },
    {
     "name": "stdout",
     "output_type": "stream",
     "text": [
      "T_id = 720, train_rmse = 2.38, test_rmse= 2.41,test_MAE= 1.65\n"
     ]
    },
    {
     "name": "stderr",
     "output_type": "stream",
     "text": [
      "100%|██████████| 744/744 [01:26<00:00,  8.64it/s]"
     ]
    },
    {
     "name": "stdout",
     "output_type": "stream",
     "text": [
      "T_id = 743, train_rmse = 2.08, test_rmse= 2.13,test_MAE= 1.52\n"
     ]
    },
    {
     "name": "stderr",
     "output_type": "stream",
     "text": [
      "\n"
     ]
    },
    {
     "name": "stdout",
     "output_type": "stream",
     "text": [
      "after smooth, test_rmse = 2.13, test_MAE= 1.52\n"
     ]
    }
   ],
   "source": [
    "\n",
    "\n",
    "config_path = \"./config_uber_trend_only.yaml\"\n",
    "with open(config_path, \"r\") as f:\n",
    "    config = yaml.safe_load(f)\n",
    "\n",
    "data_file = config[\"data_path\"] # T=315 - rmse = 0.27 - Mqar23\n",
    "\n",
    "hyper_dict = utils.make_hyper_dict(config)\n",
    "\n",
    "data_dict = utils.make_data_dict(hyper_dict,data_file,fold=0)\n",
    "\n",
    "model = BayTIDE(hyper_dict,data_dict)\n",
    "\n",
    "model.reset()\n",
    "model.post_W_m = torch.ones_like(model.post_W_m).to(model.device)\n",
    "\n",
    "running_rmse = []\n",
    "# _, loss_dict = model.model_test(0)\n",
    "# running_rmse.append(loss_dict[\"test_RMSE\"])\n",
    "\n",
    "\n",
    "INNER_ITER = hyper_dict[\"INNER_ITER\"]\n",
    "EVALU_T = hyper_dict[\"EVALU_T\"]\n",
    "for epoch in range(1):\n",
    "    model.reset()\n",
    "    for T_id in tqdm.tqdm(range(model.T)):\n",
    "        model.filter_predict(T_id)\n",
    "        model.msg_llk_init()\n",
    "\n",
    "        for inner_it in range(INNER_ITER):\n",
    "\n",
    "            flag = (inner_it == (INNER_ITER - 1))\n",
    "\n",
    "            model.msg_approx_W(T_id)\n",
    "            model.post_update_W(T_id)\n",
    "\n",
    "            model.msg_approx_U(T_id)\n",
    "            model.filter_update(T_id,flag)\n",
    "\n",
    "            model.msg_approx_tau(T_id)\n",
    "            model.post_update_tau(T_id)\n",
    "\n",
    "        if T_id % EVALU_T == 0 or T_id == model.T - 1:\n",
    "\n",
    "            # we only need  this to get the running metric, otherwise we can skip this\n",
    "            model.inner_smooth()\n",
    "            \n",
    "            _, loss_dict = model.model_test(T_id)\n",
    "            print(\"T_id = {}, train_rmse = {:.2f}, test_rmse= {:.2f},test_MAE= {:.2f}\".format(T_id, loss_dict[\"train_RMSE\"],\n",
    "             loss_dict[\"test_RMSE\"], loss_dict[\"test_MAE\"]))\n",
    "            running_rmse.append(loss_dict[\"test_RMSE\"])\n",
    "\n",
    "    model.smooth()\n",
    "    model.post_update_U_after_smooth(0)\n",
    "    _, loss_dict = model.model_test(T_id)\n",
    "    print(\"after smooth, test_rmse = {:.2f}, test_MAE= {:.2f}\".format(loss_dict[\"test_RMSE\"], loss_dict[\"test_MAE\"]))\n",
    "\n",
    "    running_rmse_trend_only = np.array(running_rmse)\n",
    "\n"
   ]
  },
  {
   "cell_type": "code",
   "execution_count": 2,
   "metadata": {},
   "outputs": [
    {
     "name": "stdout",
     "output_type": "stream",
     "text": [
      "use device: cuda\n"
     ]
    },
    {
     "name": "stderr",
     "output_type": "stream",
     "text": [
      "  0%|          | 1/744 [00:00<03:34,  3.46it/s]"
     ]
    },
    {
     "name": "stdout",
     "output_type": "stream",
     "text": [
      "T_id = 0, train_rmse = 8.63, test_rmse= 8.63,test_MAE= 6.99\n"
     ]
    },
    {
     "name": "stderr",
     "output_type": "stream",
     "text": [
      "  4%|▍         | 30/744 [00:10<04:25,  2.69it/s]/home/venus/fang/BayTIDE/notebook/../model_LDS.py:310: UserWarning: An output with one or more elements was resized since it had shape [1, 30, 30], which does not match the required output shape [1, 1, 30, 30]. This behavior is deprecated, and in a future PyTorch release outputs will not be resized unless they have zero elements. You can explicitly reuse an out tensor t by resizing it, inplace, to zero elements with t.resize_(0). (Triggered internally at  /opt/conda/conda-bld/pytorch_1659484806139/work/aten/src/ATen/native/Resize.cpp:17.)\n",
      "  A = torch.matrix_exp(self.F * time_int)\n",
      "  4%|▍         | 31/744 [00:10<05:18,  2.24it/s]"
     ]
    },
    {
     "name": "stdout",
     "output_type": "stream",
     "text": [
      "T_id = 30, train_rmse = 7.83, test_rmse= 7.83,test_MAE= 6.39\n"
     ]
    },
    {
     "name": "stderr",
     "output_type": "stream",
     "text": [
      "  8%|▊         | 61/744 [00:23<09:31,  1.20it/s]"
     ]
    },
    {
     "name": "stdout",
     "output_type": "stream",
     "text": [
      "T_id = 60, train_rmse = 7.76, test_rmse= 7.77,test_MAE= 6.27\n"
     ]
    },
    {
     "name": "stderr",
     "output_type": "stream",
     "text": [
      " 12%|█▏        | 91/744 [00:35<09:22,  1.16it/s]"
     ]
    },
    {
     "name": "stdout",
     "output_type": "stream",
     "text": [
      "T_id = 90, train_rmse = 7.57, test_rmse= 7.57,test_MAE= 6.06\n"
     ]
    },
    {
     "name": "stderr",
     "output_type": "stream",
     "text": [
      " 16%|█▋        | 121/744 [00:48<11:29,  1.11s/it]"
     ]
    },
    {
     "name": "stdout",
     "output_type": "stream",
     "text": [
      "T_id = 120, train_rmse = 7.32, test_rmse= 7.33,test_MAE= 5.80\n"
     ]
    },
    {
     "name": "stderr",
     "output_type": "stream",
     "text": [
      " 20%|██        | 151/744 [01:02<13:24,  1.36s/it]"
     ]
    },
    {
     "name": "stdout",
     "output_type": "stream",
     "text": [
      "T_id = 150, train_rmse = 7.08, test_rmse= 7.08,test_MAE= 5.54\n"
     ]
    },
    {
     "name": "stderr",
     "output_type": "stream",
     "text": [
      " 24%|██▍       | 181/744 [01:17<15:41,  1.67s/it]"
     ]
    },
    {
     "name": "stdout",
     "output_type": "stream",
     "text": [
      "T_id = 180, train_rmse = 6.91, test_rmse= 6.91,test_MAE= 5.34\n"
     ]
    },
    {
     "name": "stderr",
     "output_type": "stream",
     "text": [
      " 28%|██▊       | 211/744 [01:34<17:45,  2.00s/it]"
     ]
    },
    {
     "name": "stdout",
     "output_type": "stream",
     "text": [
      "T_id = 210, train_rmse = 6.76, test_rmse= 6.77,test_MAE= 5.16\n"
     ]
    },
    {
     "name": "stderr",
     "output_type": "stream",
     "text": [
      " 32%|███▏      | 241/744 [01:53<20:27,  2.44s/it]"
     ]
    },
    {
     "name": "stdout",
     "output_type": "stream",
     "text": [
      "T_id = 240, train_rmse = 6.60, test_rmse= 6.61,test_MAE= 4.96\n"
     ]
    },
    {
     "name": "stderr",
     "output_type": "stream",
     "text": [
      " 36%|███▋      | 271/744 [02:12<20:58,  2.66s/it]"
     ]
    },
    {
     "name": "stdout",
     "output_type": "stream",
     "text": [
      "T_id = 270, train_rmse = 6.41, test_rmse= 6.42,test_MAE= 4.75\n"
     ]
    },
    {
     "name": "stderr",
     "output_type": "stream",
     "text": [
      " 40%|████      | 301/744 [02:32<20:48,  2.82s/it]"
     ]
    },
    {
     "name": "stdout",
     "output_type": "stream",
     "text": [
      "T_id = 300, train_rmse = 6.23, test_rmse= 6.25,test_MAE= 4.57\n"
     ]
    },
    {
     "name": "stderr",
     "output_type": "stream",
     "text": [
      " 44%|████▍     | 331/744 [02:53<21:51,  3.18s/it]"
     ]
    },
    {
     "name": "stdout",
     "output_type": "stream",
     "text": [
      "T_id = 330, train_rmse = 6.05, test_rmse= 6.08,test_MAE= 4.38\n"
     ]
    },
    {
     "name": "stderr",
     "output_type": "stream",
     "text": [
      " 49%|████▊     | 361/744 [03:16<22:00,  3.45s/it]"
     ]
    },
    {
     "name": "stdout",
     "output_type": "stream",
     "text": [
      "T_id = 360, train_rmse = 5.89, test_rmse= 5.92,test_MAE= 4.18\n"
     ]
    },
    {
     "name": "stderr",
     "output_type": "stream",
     "text": [
      " 53%|█████▎    | 391/744 [03:38<21:04,  3.58s/it]"
     ]
    },
    {
     "name": "stdout",
     "output_type": "stream",
     "text": [
      "T_id = 390, train_rmse = 5.71, test_rmse= 5.74,test_MAE= 4.00\n"
     ]
    },
    {
     "name": "stderr",
     "output_type": "stream",
     "text": [
      " 57%|█████▋    | 421/744 [03:59<16:48,  3.12s/it]"
     ]
    },
    {
     "name": "stdout",
     "output_type": "stream",
     "text": [
      "T_id = 420, train_rmse = 5.49, test_rmse= 5.52,test_MAE= 3.77\n"
     ]
    },
    {
     "name": "stderr",
     "output_type": "stream",
     "text": [
      " 61%|██████    | 451/744 [04:21<19:15,  3.94s/it]"
     ]
    },
    {
     "name": "stdout",
     "output_type": "stream",
     "text": [
      "T_id = 450, train_rmse = 5.23, test_rmse= 5.27,test_MAE= 3.53\n"
     ]
    },
    {
     "name": "stderr",
     "output_type": "stream",
     "text": [
      " 65%|██████▍   | 481/744 [04:38<09:25,  2.15s/it]"
     ]
    },
    {
     "name": "stdout",
     "output_type": "stream",
     "text": [
      "T_id = 480, train_rmse = 4.99, test_rmse= 5.04,test_MAE= 3.33\n"
     ]
    },
    {
     "name": "stderr",
     "output_type": "stream",
     "text": [
      " 69%|██████▊   | 511/744 [04:54<08:57,  2.31s/it]"
     ]
    },
    {
     "name": "stdout",
     "output_type": "stream",
     "text": [
      "T_id = 510, train_rmse = 4.77, test_rmse= 4.82,test_MAE= 3.13\n"
     ]
    },
    {
     "name": "stderr",
     "output_type": "stream",
     "text": [
      " 73%|███████▎  | 541/744 [05:10<08:00,  2.37s/it]"
     ]
    },
    {
     "name": "stdout",
     "output_type": "stream",
     "text": [
      "T_id = 540, train_rmse = 4.54, test_rmse= 4.59,test_MAE= 2.93\n"
     ]
    },
    {
     "name": "stderr",
     "output_type": "stream",
     "text": [
      " 77%|███████▋  | 571/744 [05:31<11:55,  4.14s/it]"
     ]
    },
    {
     "name": "stdout",
     "output_type": "stream",
     "text": [
      "T_id = 570, train_rmse = 4.27, test_rmse= 4.33,test_MAE= 2.71\n"
     ]
    },
    {
     "name": "stderr",
     "output_type": "stream",
     "text": [
      " 81%|████████  | 601/744 [05:56<10:22,  4.35s/it]"
     ]
    },
    {
     "name": "stdout",
     "output_type": "stream",
     "text": [
      "T_id = 600, train_rmse = 3.92, test_rmse= 3.98,test_MAE= 2.45\n"
     ]
    },
    {
     "name": "stderr",
     "output_type": "stream",
     "text": [
      " 85%|████████▍ | 631/744 [06:21<08:41,  4.61s/it]"
     ]
    },
    {
     "name": "stdout",
     "output_type": "stream",
     "text": [
      "T_id = 630, train_rmse = 3.55, test_rmse= 3.60,test_MAE= 2.22\n"
     ]
    },
    {
     "name": "stderr",
     "output_type": "stream",
     "text": [
      " 89%|████████▉ | 661/744 [06:46<06:39,  4.81s/it]"
     ]
    },
    {
     "name": "stdout",
     "output_type": "stream",
     "text": [
      "T_id = 660, train_rmse = 3.20, test_rmse= 3.26,test_MAE= 2.01\n"
     ]
    },
    {
     "name": "stderr",
     "output_type": "stream",
     "text": [
      " 93%|█████████▎| 691/744 [07:12<04:28,  5.07s/it]"
     ]
    },
    {
     "name": "stdout",
     "output_type": "stream",
     "text": [
      "T_id = 690, train_rmse = 2.79, test_rmse= 2.85,test_MAE= 1.79\n"
     ]
    },
    {
     "name": "stderr",
     "output_type": "stream",
     "text": [
      " 97%|█████████▋| 721/744 [07:39<02:00,  5.24s/it]"
     ]
    },
    {
     "name": "stdout",
     "output_type": "stream",
     "text": [
      "T_id = 720, train_rmse = 2.31, test_rmse= 2.40,test_MAE= 1.57\n"
     ]
    },
    {
     "name": "stderr",
     "output_type": "stream",
     "text": [
      "100%|██████████| 744/744 [08:04<00:00,  1.54it/s]"
     ]
    },
    {
     "name": "stdout",
     "output_type": "stream",
     "text": [
      "T_id = 743, train_rmse = 1.81, test_rmse= 1.94,test_MAE= 1.39\n"
     ]
    },
    {
     "name": "stderr",
     "output_type": "stream",
     "text": [
      "\n"
     ]
    },
    {
     "name": "stdout",
     "output_type": "stream",
     "text": [
      "after smooth, test_rmse = 1.94, test_MAE= 1.39\n"
     ]
    }
   ],
   "source": [
    "\n",
    "\n",
    "config_path = \"./config_uber.yaml\"\n",
    "with open(config_path, \"r\") as f:\n",
    "    config = yaml.safe_load(f)\n",
    "\n",
    "data_file = config[\"data_path\"] # T=315 - rmse = 0.27 - Mqar23\n",
    "\n",
    "hyper_dict = utils.make_hyper_dict(config)\n",
    "\n",
    "data_dict = utils.make_data_dict(hyper_dict,data_file,fold=0)\n",
    "\n",
    "model = BayTIDE(hyper_dict,data_dict)\n",
    "\n",
    "model.reset()\n",
    "model.post_W_m = torch.ones_like(model.post_W_m).to(model.device)\n",
    "\n",
    "running_rmse = []\n",
    "# _, loss_dict = model.model_test(0)\n",
    "# running_rmse.append(loss_dict[\"test_RMSE\"])\n",
    "\n",
    "\n",
    "INNER_ITER = hyper_dict[\"INNER_ITER\"]\n",
    "EVALU_T = hyper_dict[\"EVALU_T\"]\n",
    "for epoch in range(1):\n",
    "    model.reset()\n",
    "    for T_id in tqdm.tqdm(range(model.T)):\n",
    "        model.filter_predict(T_id)\n",
    "        model.msg_llk_init()\n",
    "\n",
    "        for inner_it in range(INNER_ITER):\n",
    "\n",
    "            flag = (inner_it == (INNER_ITER - 1))\n",
    "\n",
    "            model.msg_approx_W(T_id)\n",
    "            model.post_update_W(T_id)\n",
    "\n",
    "            model.msg_approx_U(T_id)\n",
    "            model.filter_update(T_id,flag)\n",
    "\n",
    "            model.msg_approx_tau(T_id)\n",
    "            model.post_update_tau(T_id)\n",
    "\n",
    "        if T_id % EVALU_T == 0 or T_id == model.T - 1:\n",
    "\n",
    "            # we only need  this to get the running metric, otherwise we can skip this\n",
    "            model.inner_smooth()\n",
    "            \n",
    "            _, loss_dict = model.model_test(T_id)\n",
    "            print(\"T_id = {}, train_rmse = {:.2f}, test_rmse= {:.2f},test_MAE= {:.2f}\".format(T_id, loss_dict[\"train_RMSE\"],\n",
    "             loss_dict[\"test_RMSE\"], loss_dict[\"test_MAE\"]))\n",
    "            running_rmse.append(loss_dict[\"test_RMSE\"])\n",
    "\n",
    "    model.smooth()\n",
    "    model.post_update_U_after_smooth(0)\n",
    "    _, loss_dict = model.model_test(T_id)\n",
    "    print(\"after smooth, test_rmse = {:.2f}, test_MAE= {:.2f}\".format(loss_dict[\"test_RMSE\"], loss_dict[\"test_MAE\"]))\n",
    "\n",
    "    running_rmse = np.array(running_rmse)\n",
    "\n"
   ]
  },
  {
   "cell_type": "code",
   "execution_count": 6,
   "metadata": {},
   "outputs": [
    {
     "name": "stdout",
     "output_type": "stream",
     "text": [
      "use device: cuda\n"
     ]
    },
    {
     "name": "stderr",
     "output_type": "stream",
     "text": [
      "  0%|          | 1/744 [00:00<02:38,  4.69it/s]/home/venus/fang/BayTIDE/notebook/../model_LDS.py:252: UserWarning: An output with one or more elements was resized since it had shape [1, 30, 30], which does not match the required output shape [1, 1, 30, 30]. This behavior is deprecated, and in a future PyTorch release outputs will not be resized unless they have zero elements. You can explicitly reuse an out tensor t by resizing it, inplace, to zero elements with t.resize_(0). (Triggered internally at  /opt/conda/conda-bld/pytorch_1659484806139/work/aten/src/ATen/native/Resize.cpp:17.)\n",
      "  self.A = torch.matrix_exp(self.F * time_int).double()\n",
      "  0%|          | 2/744 [00:00<01:50,  6.74it/s]"
     ]
    },
    {
     "name": "stdout",
     "output_type": "stream",
     "text": [
      "T_id = 0, train_rmse = 5.99, test_rmse= 5.99,test_MAE= 4.86\n"
     ]
    },
    {
     "name": "stderr",
     "output_type": "stream",
     "text": [
      "  4%|▍         | 29/744 [00:03<01:28,  8.11it/s]/home/venus/fang/BayTIDE/notebook/../model_LDS.py:310: UserWarning: An output with one or more elements was resized since it had shape [1, 30, 30], which does not match the required output shape [1, 1, 30, 30]. This behavior is deprecated, and in a future PyTorch release outputs will not be resized unless they have zero elements. You can explicitly reuse an out tensor t by resizing it, inplace, to zero elements with t.resize_(0). (Triggered internally at  /opt/conda/conda-bld/pytorch_1659484806139/work/aten/src/ATen/native/Resize.cpp:17.)\n",
      "  A = torch.matrix_exp(self.F * time_int)\n",
      "  4%|▍         | 31/744 [00:04<02:16,  5.23it/s]"
     ]
    },
    {
     "name": "stdout",
     "output_type": "stream",
     "text": [
      "T_id = 30, train_rmse = 5.97, test_rmse= 5.97,test_MAE= 4.84\n"
     ]
    },
    {
     "name": "stderr",
     "output_type": "stream",
     "text": [
      "  8%|▊         | 61/744 [00:08<02:53,  3.94it/s]"
     ]
    },
    {
     "name": "stdout",
     "output_type": "stream",
     "text": [
      "T_id = 60, train_rmse = 5.97, test_rmse= 5.97,test_MAE= 4.85\n"
     ]
    },
    {
     "name": "stderr",
     "output_type": "stream",
     "text": [
      " 12%|█▏        | 91/744 [00:14<03:30,  3.11it/s]"
     ]
    },
    {
     "name": "stdout",
     "output_type": "stream",
     "text": [
      "T_id = 90, train_rmse = 5.97, test_rmse= 5.97,test_MAE= 4.85\n"
     ]
    },
    {
     "name": "stderr",
     "output_type": "stream",
     "text": [
      " 17%|█▋        | 123/744 [00:19<02:50,  3.65it/s]"
     ]
    },
    {
     "name": "stdout",
     "output_type": "stream",
     "text": [
      "T_id = 120, train_rmse = 5.98, test_rmse= 5.98,test_MAE= 4.86\n"
     ]
    },
    {
     "name": "stderr",
     "output_type": "stream",
     "text": [
      " 21%|██        | 153/744 [00:23<02:10,  4.54it/s]"
     ]
    },
    {
     "name": "stdout",
     "output_type": "stream",
     "text": [
      "T_id = 150, train_rmse = 5.98, test_rmse= 5.98,test_MAE= 4.87\n"
     ]
    },
    {
     "name": "stderr",
     "output_type": "stream",
     "text": [
      " 24%|██▍       | 182/744 [00:28<02:21,  3.97it/s]"
     ]
    },
    {
     "name": "stdout",
     "output_type": "stream",
     "text": [
      "T_id = 180, train_rmse = 5.98, test_rmse= 5.98,test_MAE= 4.87\n"
     ]
    },
    {
     "name": "stderr",
     "output_type": "stream",
     "text": [
      " 28%|██▊       | 211/744 [00:34<04:12,  2.11it/s]"
     ]
    },
    {
     "name": "stdout",
     "output_type": "stream",
     "text": [
      "T_id = 210, train_rmse = 5.99, test_rmse= 5.98,test_MAE= 4.88\n"
     ]
    },
    {
     "name": "stderr",
     "output_type": "stream",
     "text": [
      " 33%|███▎      | 243/744 [00:40<02:26,  3.42it/s]"
     ]
    },
    {
     "name": "stdout",
     "output_type": "stream",
     "text": [
      "T_id = 240, train_rmse = 5.99, test_rmse= 5.99,test_MAE= 4.89\n"
     ]
    },
    {
     "name": "stderr",
     "output_type": "stream",
     "text": [
      " 37%|███▋      | 272/744 [00:45<02:37,  2.99it/s]"
     ]
    },
    {
     "name": "stdout",
     "output_type": "stream",
     "text": [
      "T_id = 270, train_rmse = 6.00, test_rmse= 6.00,test_MAE= 4.90\n"
     ]
    },
    {
     "name": "stderr",
     "output_type": "stream",
     "text": [
      " 41%|████      | 303/744 [00:52<03:14,  2.27it/s]"
     ]
    },
    {
     "name": "stdout",
     "output_type": "stream",
     "text": [
      "T_id = 300, train_rmse = 6.01, test_rmse= 6.01,test_MAE= 4.91\n"
     ]
    },
    {
     "name": "stderr",
     "output_type": "stream",
     "text": [
      " 44%|████▍     | 331/744 [00:58<03:34,  1.92it/s]"
     ]
    },
    {
     "name": "stdout",
     "output_type": "stream",
     "text": [
      "T_id = 330, train_rmse = 5.98, test_rmse= 5.99,test_MAE= 4.90\n"
     ]
    },
    {
     "name": "stderr",
     "output_type": "stream",
     "text": [
      " 49%|████▊     | 362/744 [01:04<03:07,  2.04it/s]"
     ]
    },
    {
     "name": "stdout",
     "output_type": "stream",
     "text": [
      "T_id = 360, train_rmse = 5.96, test_rmse= 5.97,test_MAE= 4.88\n"
     ]
    },
    {
     "name": "stderr",
     "output_type": "stream",
     "text": [
      " 53%|█████▎    | 391/744 [01:11<03:18,  1.78it/s]"
     ]
    },
    {
     "name": "stdout",
     "output_type": "stream",
     "text": [
      "T_id = 390, train_rmse = 5.94, test_rmse= 5.95,test_MAE= 4.87\n"
     ]
    },
    {
     "name": "stderr",
     "output_type": "stream",
     "text": [
      " 57%|█████▋    | 421/744 [01:17<04:10,  1.29it/s]"
     ]
    },
    {
     "name": "stdout",
     "output_type": "stream",
     "text": [
      "T_id = 420, train_rmse = 5.94, test_rmse= 5.94,test_MAE= 4.87\n"
     ]
    },
    {
     "name": "stderr",
     "output_type": "stream",
     "text": [
      " 61%|██████    | 452/744 [01:25<03:09,  1.54it/s]"
     ]
    },
    {
     "name": "stdout",
     "output_type": "stream",
     "text": [
      "T_id = 450, train_rmse = 5.95, test_rmse= 5.95,test_MAE= 4.88\n"
     ]
    },
    {
     "name": "stderr",
     "output_type": "stream",
     "text": [
      " 65%|██████▍   | 483/744 [01:33<02:15,  1.92it/s]"
     ]
    },
    {
     "name": "stdout",
     "output_type": "stream",
     "text": [
      "T_id = 480, train_rmse = 5.94, test_rmse= 5.94,test_MAE= 4.87\n"
     ]
    },
    {
     "name": "stderr",
     "output_type": "stream",
     "text": [
      " 69%|██████▊   | 511/744 [01:40<04:22,  1.12s/it]"
     ]
    },
    {
     "name": "stdout",
     "output_type": "stream",
     "text": [
      "T_id = 510, train_rmse = 5.93, test_rmse= 5.93,test_MAE= 4.87\n"
     ]
    },
    {
     "name": "stderr",
     "output_type": "stream",
     "text": [
      " 73%|███████▎  | 541/744 [01:47<04:07,  1.22s/it]"
     ]
    },
    {
     "name": "stdout",
     "output_type": "stream",
     "text": [
      "T_id = 540, train_rmse = 5.93, test_rmse= 5.92,test_MAE= 4.86\n"
     ]
    },
    {
     "name": "stderr",
     "output_type": "stream",
     "text": [
      " 77%|███████▋  | 571/744 [01:55<03:19,  1.16s/it]"
     ]
    },
    {
     "name": "stdout",
     "output_type": "stream",
     "text": [
      "T_id = 570, train_rmse = 5.91, test_rmse= 5.92,test_MAE= 4.85\n"
     ]
    },
    {
     "name": "stderr",
     "output_type": "stream",
     "text": [
      " 81%|████████  | 602/744 [02:04<02:08,  1.11it/s]"
     ]
    },
    {
     "name": "stdout",
     "output_type": "stream",
     "text": [
      "T_id = 600, train_rmse = 5.92, test_rmse= 5.93,test_MAE= 4.87\n"
     ]
    },
    {
     "name": "stderr",
     "output_type": "stream",
     "text": [
      " 85%|████████▌ | 633/744 [02:13<01:20,  1.38it/s]"
     ]
    },
    {
     "name": "stdout",
     "output_type": "stream",
     "text": [
      "T_id = 630, train_rmse = 5.93, test_rmse= 5.93,test_MAE= 4.88\n"
     ]
    },
    {
     "name": "stderr",
     "output_type": "stream",
     "text": [
      " 89%|████████▉ | 663/744 [02:22<01:03,  1.27it/s]"
     ]
    },
    {
     "name": "stdout",
     "output_type": "stream",
     "text": [
      "T_id = 660, train_rmse = 5.91, test_rmse= 5.92,test_MAE= 4.87\n"
     ]
    },
    {
     "name": "stderr",
     "output_type": "stream",
     "text": [
      " 93%|█████████▎| 693/744 [02:30<00:33,  1.53it/s]"
     ]
    },
    {
     "name": "stdout",
     "output_type": "stream",
     "text": [
      "T_id = 690, train_rmse = 5.90, test_rmse= 5.91,test_MAE= 4.86\n"
     ]
    },
    {
     "name": "stderr",
     "output_type": "stream",
     "text": [
      " 97%|█████████▋| 721/744 [02:40<00:25,  1.11s/it]"
     ]
    },
    {
     "name": "stdout",
     "output_type": "stream",
     "text": [
      "T_id = 720, train_rmse = 5.89, test_rmse= 5.90,test_MAE= 4.85\n"
     ]
    },
    {
     "name": "stderr",
     "output_type": "stream",
     "text": [
      "100%|██████████| 744/744 [02:49<00:00,  4.39it/s]"
     ]
    },
    {
     "name": "stdout",
     "output_type": "stream",
     "text": [
      "T_id = 743, train_rmse = 5.88, test_rmse= 5.88,test_MAE= 4.85\n"
     ]
    },
    {
     "name": "stderr",
     "output_type": "stream",
     "text": [
      "\n"
     ]
    },
    {
     "name": "stdout",
     "output_type": "stream",
     "text": [
      "after smooth, test_rmse = 5.88, test_MAE= 4.85\n"
     ]
    }
   ],
   "source": [
    "import numpy as np\n",
    "import torch \n",
    "import sys\n",
    "sys.path.append(\"../\")\n",
    "\n",
    "import tqdm\n",
    "import yaml\n",
    "torch.random.manual_seed(300)\n",
    "import matplotlib.pyplot as plt\n",
    "\n",
    "import utils_BayTIDE as utils\n",
    "\n",
    "from model_BayTIDE import BayTIDE\n",
    "\n",
    "from model_LDS import LDS_GP_streaming\n",
    "\n",
    "config_path = \"./config_uber.yaml\"\n",
    "with open(config_path, \"r\") as f:\n",
    "    config = yaml.safe_load(f)\n",
    "\n",
    "data_file = config[\"data_path\"] # T=315 - rmse = 0.27 - Mqar23\n",
    "\n",
    "hyper_dict = utils.make_hyper_dict(config)\n",
    "\n",
    "data_dict = utils.make_data_dict(hyper_dict,data_file,fold=0)\n",
    "\n",
    "model = BayTIDE(hyper_dict,data_dict)\n",
    "\n",
    "# set Weight to be all ones and do not update it\n",
    "\n",
    "\n",
    "model.reset()\n",
    "\n",
    "running_rmse_no_weight = []\n",
    "# _, loss_dict = model.model_test(0)\n",
    "# running_rmse_no_weight.append(loss_dict[\"test_RMSE\"])\n",
    "model.post_W_m = torch.ones_like(model.post_W_m).to(model.device)\n",
    "\n",
    "INNER_ITER = hyper_dict[\"INNER_ITER\"]\n",
    "EVALU_T = hyper_dict[\"EVALU_T\"]\n",
    "for epoch in range(1):\n",
    "    model.reset()\n",
    "    for T_id in tqdm.tqdm(range(model.T)):\n",
    "        model.filter_predict(T_id)\n",
    "        model.msg_llk_init()\n",
    "\n",
    "        for inner_it in range(INNER_ITER):\n",
    "\n",
    "            flag = (inner_it == (INNER_ITER - 1))\n",
    "\n",
    "            # model.msg_approx_W(T_id)\n",
    "            # model.post_update_W(T_id)\n",
    "\n",
    "            model.msg_approx_U(T_id)\n",
    "            model.filter_update(T_id,flag)\n",
    "\n",
    "            model.msg_approx_tau(T_id)\n",
    "            model.post_update_tau(T_id)\n",
    "\n",
    "        if T_id % EVALU_T == 0 or T_id == model.T - 1:\n",
    "\n",
    "            model.inner_smooth()\n",
    "            # model.post_update_U_after_smooth(0)\n",
    "            \n",
    "            _, loss_dict = model.model_test(T_id)\n",
    "            print(\"T_id = {}, train_rmse = {:.2f}, test_rmse= {:.2f},test_MAE= {:.2f}\".format(T_id, loss_dict[\"train_RMSE\"],\n",
    "             loss_dict[\"test_RMSE\"], loss_dict[\"test_MAE\"]))\n",
    "            running_rmse_no_weight .append(loss_dict[\"test_RMSE\"])\n",
    "\n",
    "    model.smooth()\n",
    "    model.post_update_U_after_smooth(0)\n",
    "    _, loss_dict = model.model_test(T_id)\n",
    "    print(\"after smooth, test_rmse = {:.2f}, test_MAE= {:.2f}\".format(loss_dict[\"test_RMSE\"], loss_dict[\"test_MAE\"]))\n",
    "\n",
    "    running_rmse_no_weight  = np.array(running_rmse_no_weight)\n",
    "\n"
   ]
  },
  {
   "cell_type": "code",
   "execution_count": 2,
   "metadata": {},
   "outputs": [],
   "source": [
    "# save running result as .npy file\n",
    "# np.save(\"running_rmse/uber_running_rmse.npy\",running_rmse)\n",
    "# np.save(\"running_rmse/uber_running_rmse_no_weight.npy\",running_rmse_no_weight)\n",
    "# np.save(\"running_rmse/uber_running_rmse_trend_only.npy\",running_rmse_trend_only)\n",
    "\n",
    "# load running result\n",
    "running_rmse = np.load(\"running_rmse/uber_running_rmse.npy\")\n",
    "running_rmse_no_weight = np.load(\"running_rmse/uber_running_rmse_no_weight.npy\")\n",
    "running_rmse_trend_only = np.load(\"running_rmse/uber_running_rmse_trend_only.npy\")"
   ]
  },
  {
   "cell_type": "code",
   "execution_count": 7,
   "metadata": {},
   "outputs": [
    {
     "data": {
      "text/plain": [
       "26"
      ]
     },
     "execution_count": 7,
     "metadata": {},
     "output_type": "execute_result"
    }
   ],
   "source": [
    "len(running_rmse)"
   ]
  },
  {
   "cell_type": "code",
   "execution_count": 4,
   "metadata": {},
   "outputs": [
    {
     "data": {
      "image/png": "[encoded data removed]",
      "text/plain": [
       "<Figure size 640x480 with 1 Axes>"
      ]
     },
     "metadata": {},
     "output_type": "display_data"
    }
   ],
   "source": [
    "# plot the running rmse, with line and dots\n",
    "# plt.figure(figsize=(10,10))\n",
    "# plt.plot(running_rmse,'o-', label = \"BayTIDE\", linewidth=3,markersize=10)\n",
    "# plt.plot(running_rmse_no_weight,'o-', label = \"BayTIDE-no-weight\",linewidth=3, markersize=10)\n",
    "# plt.plot(running_rmse_trend_only,'o-', label = \"BayTIDE-trend-only\",linewidth=3, markersize=10)\n",
    "\n",
    "plt.plot(running_rmse,'o-', label = \"BayOTIDE\", linewidth=2,markersize=7)\n",
    "plt.plot(running_rmse_trend_only,'^-', label = \"BayOTIDE-trend-only\",linewidth=2, markersize=7)\n",
    "plt.plot(running_rmse_no_weight,'v-', label = \"BayOTIDE-fix-weight\",linewidth=2, markersize=7)\n",
    "\n",
    "plt.xticks(ticks=[0,10, 23],labels=[0, 300,700],fontsize=20)\n",
    "plt.xlabel(\"Number of processed timestamp \",fontsize=18)\n",
    "\n",
    "plt.yticks(ticks =[2,6,9],fontsize=20)\n",
    "# plt.ylabel(\"RMSE \",fontsize=35)\n",
    "\n",
    "# plt.legend(fontsize=20)\n",
    "\n",
    "plt.savefig(\"./figs/running_rmse-uber.pdf\",bbox_inches='tight')"
   ]
  }
 ],
 "metadata": {
  "kernelspec": {
   "display_name": "pytorch",
   "language": "python",
   "name": "python3"
  },
  "language_info": {
   "codemirror_mode": {
    "name": "ipython",
    "version": 3
   },
   "file_extension": ".py",
   "mimetype": "text/x-python",
   "name": "python",
   "nbconvert_exporter": "python",
   "pygments_lexer": "ipython3",
   "version": "3.10.8"
  },
  "orig_nbformat": 4
 },
 "nbformat": 4,
 "nbformat_minor": 2
}
