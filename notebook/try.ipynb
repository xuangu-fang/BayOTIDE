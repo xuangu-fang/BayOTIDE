{
 "cells": [
  {
   "cell_type": "code",
   "execution_count": 25,
   "metadata": {},
   "outputs": [
    {
     "name": "stdout",
     "output_type": "stream",
     "text": [
      "0 不平等社会：从石器时代到21世纪，人类如何应对不平等 沃尔特·沙伊德尔 5461800 zlibrary\n",
      "1 不平等社会：从石器时代到21世纪，人类如何应对不平等（富人越来越富，穷人一直是穷人？贫富差距如何缩小？） 沃尔特·沙伊德尔 13895622 zlibrary\n",
      "2 不平等社会：从石器时代到21世纪，人类如何应对不平等 沃尔特·沙伊德尔 [[mei]woerte?shayideer] 13895625 zlibrary\n",
      "3 不平等社会：从石器时代到21世纪，人类如何应对不平等（富人越来越富，穷人一直是穷人？贫富差距如何缩小？） 沃尔特·沙伊德尔 13895629 zlibrary\n",
      "4 不平等社会：从石器时代到21世纪，人类如何应对不平等 沃尔特·沙伊德尔 [沃尔特·沙伊德尔] 14315230 zlibrary\n",
      "5 不平等社会：从石器时代到21世纪，人类如何应对不平等（富人越来越富，穷人一直是穷人？贫富差距如何缩小？） 沃尔特·沙伊德尔 16563650 zlibrary\n",
      "6 不平等社会：从石器时代到21世纪，人类如何应对不平等 沃尔特·沙伊德尔 16698328 zlibrary\n",
      "7 不平等社会：从石器时代到21世纪，人类如何应对不平等（富人越来越富，穷人一直是穷人？贫富差距如何缩小？） 沃尔特·沙伊德尔 16698329 zlibrary\n",
      "8 不平等社会：从石器时代到21世纪，人类如何应对不平等（富人越来越富，穷人一直是穷人？贫富差距如何缩小？） 沃尔特·沙伊德尔 16698330 zlibrary\n",
      "9 不平等社会：从石器时代到21世纪，人类如何应对不平等（富人越来越富，穷人一直是穷人？贫富差距如何缩小？） 沃尔特·沙伊德尔 [沃尔特·沙伊德尔] 16698331 zlibrary\n",
      "10 不平等社会：从石器时代到21世纪，人类如何应对不平等（富人越来越富，穷人一直是穷人？贫富差距如何缩小？） 沃尔特·沙伊德尔 [沃尔特·沙伊德尔] 16698332 zlibrary\n",
      "11 不平等社会：从石器时代到21世纪，人类如何应对不平等（富人越来越富，穷人一直是穷人？贫富差距如何缩小？） 沃尔特·沙伊德尔 16698333 zlibrary\n",
      "12 不平等社会：从石器时代到21世纪，人类如何应对不平等 沃尔特·沙伊德尔 17793320 zlibrary\n",
      "13 不平等社会：从石器时代到21世纪，人类如何应对不平等 沃尔特·沙伊德尔  & chenjin5.com 18055401 zlibrary\n",
      "14 不平等社会：从石器时代到21世纪，人类如何应对不平等 沃尔特·沙伊德尔 18061208 zlibrary\n",
      "15 不平等社会：从石器时代到21世纪，人类如何应对不平等 沃尔特·沙伊德尔 18073963 zlibrary\n",
      "16 不平等社会：从石器时代到21世纪，人类如何应对不平等 沃尔特·沙伊德尔 18178919 zlibrary\n",
      "17 不平等社会：从石器时代到21世纪，人类如何应对不平等 沃尔特·沙伊德尔 & chenjin5.com 18321684 zlibrary\n",
      "18 不平等社会：从石器时代到21世纪，人类如何应对不平等 沃尔特·沙伊德尔 & chenjin5.com 18321685 zlibrary\n",
      "19 不平等社会：从石器时代到21世纪，人类如何应对不平等 沃尔特·沙伊德尔 18425033 zlibrary\n"
     ]
    }
   ],
   "source": [
    "import requests\n",
    "\n",
    "# 请求头（如果有特定的请求头需要添加，可以在此处定义）\n",
    "headers = {}\n",
    "\n",
    "# headers = [{\"name\":\"Ylibrary\",\"url\":\"https://superlib.ylibrary.org\",\"type\":\"full\",\"sensitive\":false,\"detail\":true}]\n",
    "\n",
    "# 请求的 JSON 数据\n",
    "search_data = {\n",
    "    'keyword': '不平等社会',\n",
    "    'page': 1,\n",
    "    'sensitive': False,\n",
    "}\n",
    "\n",
    "# 发起请求\n",
    "response = requests.post('https://api.ylibrary.org/api/search/', headers=headers, json=search_data)\n",
    "\n",
    "# response = requests.post('https://api.superlib.ylibrary.org/api/search/', headers=headers, json=search_data)\n",
    "\n",
    "\n",
    "\n",
    "\n",
    "# 将响应转换为 JSON 格式\n",
    "search_results = response.json()\n",
    "\n",
    "# 打印搜索结果\n",
    "for i, book in enumerate(search_results['data']):\n",
    "    print(i,book['title'], book['author'], book['id'], book['source'])\n",
    "    \n",
    "        \n"
   ]
  },
  {
   "cell_type": "code",
   "execution_count": 26,
   "metadata": {},
   "outputs": [
    {
     "name": "stdout",
     "output_type": "stream",
     "text": [
      "不平等社会：从石器时代到21世纪，人类如何应对不平等 沃尔特·沙伊德尔 2bc87688799f863126abe564916c7b40\n",
      "https://ipfs.io/ipfs/bafykbzaceaccaaieolopw6kqdbhk7kv6ozl3pnjznonmqwr4wulg74kf534i6\n"
     ]
    }
   ],
   "source": [
    "# 请求的 JSON 数据（以搜索结果中的第一本书为例）\n",
    "id=0\n",
    "\n",
    "detail_data = {\n",
    "    'id': search_results['data'][id]['id'],\n",
    "    'source': search_results['data'][id]['source'],\n",
    "}\n",
    "\n",
    "# 发起请求\n",
    "response = requests.post('https://api.ylibrary.org/api/detail/', headers=headers, json=detail_data)\n",
    "\n",
    "# 将响应转换为 JSON 格式\n",
    "book_details = response.json()\n",
    "# print(book_details)\n",
    "\n",
    "# 打印书籍详情\n",
    "\n",
    "print(book_details['title'], book_details['author'], book_details['md5'])\n",
    "if 'ipfs_cid' in book_details:\n",
    "    print('https://ipfs.io/ipfs/'+book_details['ipfs_cid'])\n",
    "else:\n",
    "    print('暂无ipfs_cid')\n"
   ]
  },
  {
   "cell_type": "code",
   "execution_count": 27,
   "metadata": {},
   "outputs": [
    {
     "data": {
      "text/plain": [
       "{'title': '不平等社会：从石器时代到21世纪，人类如何应对不平等',\n",
       " 'author': '沃尔特·沙伊德尔',\n",
       " 'publisher': '中信出版集团',\n",
       " 'isbn': '9787521704495',\n",
       " 'extension': 'epub',\n",
       " 'filesize': 8279829,\n",
       " 'year': '2019',\n",
       " 'md5': '2bc87688799f863126abe564916c7b40',\n",
       " 'ipfs_cid': 'bafykbzaceaccaaieolopw6kqdbhk7kv6ozl3pnjznonmqwr4wulg74kf534i6',\n",
       " 'in_libgen': 1,\n",
       " 'id': 5461800,\n",
       " 'source': 'z-library'}"
      ]
     },
     "execution_count": 27,
     "metadata": {},
     "output_type": "execute_result"
    }
   ],
   "source": [
    "book_details"
   ]
  }
 ],
 "metadata": {
  "kernelspec": {
   "display_name": "ifar",
   "language": "python",
   "name": "python3"
  },
  "language_info": {
   "codemirror_mode": {
    "name": "ipython",
    "version": 3
   },
   "file_extension": ".py",
   "mimetype": "text/x-python",
   "name": "python",
   "nbconvert_exporter": "python",
   "pygments_lexer": "ipython3",
   "version": "3.10.8"
  },
  "orig_nbformat": 4
 },
 "nbformat": 4,
 "nbformat_minor": 2
}
