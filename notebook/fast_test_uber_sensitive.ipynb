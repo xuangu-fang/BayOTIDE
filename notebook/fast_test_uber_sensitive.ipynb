{
 "cells": [
  {
   "cell_type": "code",
   "execution_count": 2,
   "metadata": {},
   "outputs": [
    {
     "name": "stdout",
     "output_type": "stream",
     "text": [
      "use device: cuda\n"
     ]
    },
    {
     "name": "stderr",
     "output_type": "stream",
     "text": [
      "100%|██████████| 744/744 [00:07<00:00, 94.98it/s]\n"
     ]
    },
    {
     "name": "stdout",
     "output_type": "stream",
     "text": [
      "tensor(0.0739, dtype=torch.float64)\n",
      "fold = 0, after smooth: \n",
      " test_rmse= 2.279, \n",
      " test_MAE= 1.626, \n",
      " CRPS= 0.074,\n",
      " neg-llk= 2.260\n"
     ]
    }
   ],
   "source": [
    "import numpy as np\n",
    "import torch \n",
    "import sys\n",
    "sys.path.append(\"../\")\n",
    "\n",
    "import tqdm\n",
    "import yaml\n",
    "torch.random.manual_seed(300)\n",
    "import matplotlib.pyplot as plt\n",
    "\n",
    "import utils_BayTIDE as utils\n",
    "\n",
    "from model_BayTIDE import BayTIDE\n",
    "\n",
    "from model_LDS import LDS_GP_streaming\n",
    "\n",
    "config_path = \"./config_uber_sensitive.yaml\"\n",
    "with open(config_path, \"r\") as f:\n",
    "    config = yaml.safe_load(f)\n",
    "\n",
    "data_file = config[\"data_path\"] # T=315 - rmse = 0.27 - Mqar23\n",
    "\n",
    "hyper_dict = utils.make_hyper_dict(config)\n",
    "\n",
    "data_dict = utils.make_data_dict(hyper_dict,data_file,fold=1)\n",
    "\n",
    "model = BayTIDE(hyper_dict,data_dict)\n",
    "\n",
    "model.reset()\n",
    "\n",
    "INNER_ITER = hyper_dict[\"INNER_ITER\"]\n",
    "EVALU_T = hyper_dict[\"EVALU_T\"]\n",
    "for epoch in range(1):\n",
    "    model.reset()\n",
    "    for T_id in tqdm.tqdm(range(model.T)):\n",
    "        model.filter_predict(T_id)\n",
    "        model.msg_llk_init()\n",
    "\n",
    "        for inner_it in range(INNER_ITER):\n",
    "\n",
    "            flag = (inner_it == (INNER_ITER - 1))\n",
    "\n",
    "            model.msg_approx_W(T_id)\n",
    "            model.post_update_W(T_id)\n",
    "\n",
    "            model.msg_approx_U(T_id)\n",
    "            model.filter_update(T_id,flag)\n",
    "\n",
    "        model.msg_approx_tau(T_id)\n",
    "        model.post_update_tau(T_id)\n",
    "\n",
    "        if T_id % EVALU_T == 0 or T_id == model.T - 1:\n",
    "            \n",
    "            # _, loss_dict = model.model_test(T_id)\n",
    "            # print(\"T_id = {}, train_rmse = {:.2f}, test_rmse= {:.2f}\".format(T_id, loss_dict[\"train_RMSE\"], loss_dict[\"test_RMSE\"]))\n",
    "            pass\n",
    "\n",
    "    model.smooth()\n",
    "    model.post_update_U_after_smooth(0)\n",
    "    _, loss_dict = model.model_test(T=T_id, prob=True)\n",
    "    fold_id=0\n",
    "    print(\"fold = {}, after smooth: \\n test_rmse= {:.3f}, \\n test_MAE= {:.3f}, \\n CRPS= {:.3f},\\n neg-llk= {:.3f}\".format(fold_id,loss_dict[\"test_RMSE\"], loss_dict[\"test_MAE\"],loss_dict[\"CRPS\"], loss_dict[\"neg-llk\"]))\n",
    "\n"
   ]
  },
  {
   "cell_type": "code",
   "execution_count": null,
   "metadata": {},
   "outputs": [],
   "source": []
  }
 ],
 "metadata": {
  "kernelspec": {
   "display_name": "pytorch",
   "language": "python",
   "name": "python3"
  },
  "language_info": {
   "codemirror_mode": {
    "name": "ipython",
    "version": 3
   },
   "file_extension": ".py",
   "mimetype": "text/x-python",
   "name": "python",
   "nbconvert_exporter": "python",
   "pygments_lexer": "ipython3",
   "version": "3.10.8"
  },
  "orig_nbformat": 4
 },
 "nbformat": 4,
 "nbformat_minor": 2
}
