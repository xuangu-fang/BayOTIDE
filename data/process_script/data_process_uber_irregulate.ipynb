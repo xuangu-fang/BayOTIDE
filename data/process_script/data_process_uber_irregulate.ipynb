{
 "cells": [
  {
   "cell_type": "code",
   "execution_count": 1,
   "metadata": {},
   "outputs": [],
   "source": [
    "import numpy as np\n",
    "import torch \n",
    "import sys\n",
    "sys.path.append(\"../\")\n",
    "import scipy \n",
    "\n",
    "import pandas as pd\n",
    "import matplotlib.pyplot as plt\n",
    "import osmnx as ox\n",
    "import xarray\n",
    "# import utils_BayTIDE as utils\n",
    "# from scipy.io import loadmat"
   ]
  },
  {
   "cell_type": "code",
   "execution_count": 3,
   "metadata": {},
   "outputs": [],
   "source": [
    "drop_rate=0.4\n",
    "valid_rate=0.1\n",
    "\n",
    "data_path = '/data/fang/BayTIDE_data/uber_impute_r_'+str(drop_rate)+'.npy'\n",
    "\n",
    "full_data = np.load(data_path, allow_pickle=True).item()\n",
    "\n",
    "n_fold = len(full_data)\n",
    "N,T =full_data['raw_data'].shape \n",
    "\n",
    "for fold in range(n_fold):\n",
    "    data_dict = full_data[\"data\"][fold]\n",
    "    train_T = int(T*(1-valid_rate-drop_rate))\n",
    "\n",
    "    T_index = np.arange(T)\n",
    "\n",
    "    np.random.shuffle(T_index)\n",
    "\n",
    "    mask_train = np.zeros((N,T))\n",
    "    mask_test = np.zeros((N,T))\n",
    "    mask_valid = np.zeros((N,T))\n",
    "\n",
    "    mask_train[:,T_index[:train_T]] = 1\n",
    "    mask_test[:,T_index[train_T:train_T+int(T*drop_rate)]] = 1\n",
    "    mask_valid[:,T_index[train_T+int(T*drop_rate):]] = 1\n",
    "\n",
    "    full_data[\"data\"][fold]['mask_train'] = mask_train\n",
    "    full_data[\"data\"][fold]['mask_test'] = mask_test\n",
    "    full_data[\"data\"][fold]['mask_valid'] = mask_valid\n",
    "\n",
    "file_name = '/data/fang/BayTIDE_data/uber_impute'+'_r_%.1f'%(drop_rate)+'_irregulate.npy'\n",
    "\n",
    "np.save(file_name, full_data)"
   ]
  }
 ],
 "metadata": {
  "kernelspec": {
   "display_name": "pytorch",
   "language": "python",
   "name": "python3"
  },
  "language_info": {
   "codemirror_mode": {
    "name": "ipython",
    "version": 3
   },
   "file_extension": ".py",
   "mimetype": "text/x-python",
   "name": "python",
   "nbconvert_exporter": "python",
   "pygments_lexer": "ipython3",
   "version": "3.10.8"
  },
  "orig_nbformat": 4
 },
 "nbformat": 4,
 "nbformat_minor": 2
}
