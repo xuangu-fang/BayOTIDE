{
 "cells": [
  {
   "cell_type": "code",
   "execution_count": 1,
   "metadata": {},
   "outputs": [],
   "source": [
    "import numpy as np\n",
    "import torch \n",
    "import sys\n",
    "sys.path.append(\"../\")\n",
    "import scipy\n",
    "\n",
    "import pandas as pd\n",
    "import matplotlib.pyplot as plt\n",
    "# import utils_BayTIDE as utils \n",
    "from scipy.io import loadmat"
   ]
  },
  {
   "cell_type": "code",
   "execution_count": 2,
   "metadata": {},
   "outputs": [
    {
     "name": "stdout",
     "output_type": "stream",
     "text": [
      "(214, 61, 144)\n",
      "(214, 8784)\n",
      "(214, 500)\n"
     ]
    }
   ],
   "source": [
    "# impoet tensor.mat using scipy\n",
    "tensor = loadmat('../raw/tensor.mat')\n",
    "tensor = tensor['tensor']\n",
    "print(tensor.shape)\n",
    "\n",
    "# only use the first 5 days, resahpe to 2D\n",
    "# sub_tensor = tensor[:,:5,:] \n",
    "sub_tensor = tensor.reshape(214,61*144)\n",
    "print(sub_tensor.shape)\n",
    "\n",
    "# to match the TIDER, just use the first 500 time points\n",
    "sub_tensor = sub_tensor[:,-501:-1]\n",
    "print(sub_tensor.shape)"
   ]
  },
  {
   "cell_type": "code",
   "execution_count": 7,
   "metadata": {},
   "outputs": [
    {
     "name": "stdout",
     "output_type": "stream",
     "text": [
      "0.0\n"
     ]
    }
   ],
   "source": [
    "# check the zero ratio\n",
    "print(np.sum(sub_tensor==0)/sub_tensor.size)"
   ]
  },
  {
   "cell_type": "code",
   "execution_count": 17,
   "metadata": {},
   "outputs": [
    {
     "name": "stdout",
     "output_type": "stream",
     "text": [
      "9.656293863902315\n",
      "7.522097348525228\n"
     ]
    }
   ],
   "source": [
    "L_test = 10\n",
    "mean_pred = np.ones(sub_tensor.shape)*np.mean(sub_tensor[:,:-L_test])\n",
    "\n",
    "mask = np.ones(sub_tensor.shape)\n",
    "mask[:,:-L_test] = 0\n",
    "\n",
    "mean_pred = mean_pred*mask\n",
    "tensor_mask = sub_tensor*mask\n",
    "\n",
    "# compute the RMSE and MAE for the mean prediction\n",
    "print(np.sqrt(np.sum((tensor_mask-mean_pred)**2)/np.sum(mask)))\n",
    "print(np.sum(np.abs(tensor_mask-mean_pred))/np.sum(mask))"
   ]
  },
  {
   "cell_type": "code",
   "execution_count": 14,
   "metadata": {},
   "outputs": [],
   "source": [
    "data_save = {}\n",
    "data_save['ndims'] = sub_tensor.shape\n",
    "\n",
    "data_save['raw_data'] = sub_tensor\n",
    "\n",
    "data_save['data'] = []\n",
    "\n",
    "# sorted unique timestamps, set as (normalized to 0-1 ) regular time intervals at current stage\n",
    "data_save['time_uni'] = np.linspace(0,1,sub_tensor.shape[1])\n",
    "\n",
    "def generate_forecast_mask( shape, test_ratio= 0.1):\n",
    "    \"\"\"\n",
    "    test_ratio: the ratio of test data (last L step to forecast)\n",
    "    \"\"\"\n",
    "    N,T = shape\n",
    "\n",
    "    mask_train_list = []\n",
    "    mask_test_list = []\n",
    "    mask_valid_list = []\n",
    "\n",
    "    mask = np.ones((N,T))\n",
    "\n",
    "    L_train = int(T*(1-test_ratio))\n",
    "    L_test = T-L_train\n",
    "\n",
    "    mask_train = np.ones((N,T))\n",
    "    mask_train[:,L_train:] = 0\n",
    "\n",
    "    mask_test = np.ones((N,T))\n",
    "    mask_test[:,:L_train] = 0\n",
    "\n",
    "    mask_valid = np.zeros((N,T))\n",
    "\n",
    "    return mask_train, mask_test, mask_valid\n",
    "\n",
    "fold = 1\n",
    "test_rate = 0.006\n",
    "\n",
    "\n",
    "for i in range(fold):\n",
    "    mask_train, mask_test, mask_valid = generate_forecast_mask(sub_tensor.shape, test_rate)\n",
    "    data_save['data'].append({'mask_train':mask_train, 'mask_test':mask_test, 'mask_valid':mask_valid})\n",
    "\n",
    "file_name = '../guangzhou/guangzhou_forecast'+'_r_%.3f'%(test_rate)+'.npy'\n",
    "np.save(file_name, data_save)\n"
   ]
  },
  {
   "cell_type": "code",
   "execution_count": 9,
   "metadata": {},
   "outputs": [
    {
     "data": {
      "text/plain": [
       "0.1"
      ]
     },
     "execution_count": 9,
     "metadata": {},
     "output_type": "execute_result"
    }
   ],
   "source": [
    "mask_test.sum()/mask_train.size"
   ]
  },
  {
   "cell_type": "code",
   "execution_count": 10,
   "metadata": {},
   "outputs": [
    {
     "data": {
      "text/plain": [
       "array([1, 2, 3, 4, 5, 6, 7, 8, 9])"
      ]
     },
     "execution_count": 10,
     "metadata": {},
     "output_type": "execute_result"
    }
   ],
   "source": [
    "import numpy as np\n",
    "import torch\n",
    "\n",
    "np.arange(1,10)"
   ]
  }
 ],
 "metadata": {
  "kernelspec": {
   "display_name": "pytorch",
   "language": "python",
   "name": "python3"
  },
  "language_info": {
   "codemirror_mode": {
    "name": "ipython",
    "version": 3
   },
   "file_extension": ".py",
   "mimetype": "text/x-python",
   "name": "python",
   "nbconvert_exporter": "python",
   "pygments_lexer": "ipython3",
   "version": "3.9.13"
  },
  "orig_nbformat": 4
 },
 "nbformat": 4,
 "nbformat_minor": 2
}
