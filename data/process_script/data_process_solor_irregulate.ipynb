{
 "cells": [
  {
   "cell_type": "code",
   "execution_count": 2,
   "metadata": {},
   "outputs": [],
   "source": [
    "import numpy as np\n",
    "import torch \n",
    "import sys\n",
    "sys.path.append(\"../\")\n",
    "import scipy\n",
    "\n",
    "import pandas as pd\n",
    "import matplotlib.pyplot as plt\n",
    "# import utils_BayTIDE as utils\n",
    "from scipy.io import loadmat"
   ]
  },
  {
   "cell_type": "code",
   "execution_count": 4,
   "metadata": {},
   "outputs": [
    {
     "name": "stdout",
     "output_type": "stream",
     "text": [
      "(137, 52560)\n",
      "False\n",
      "88.9\n",
      "0.0\n",
      "6.35265222088902\n"
     ]
    }
   ],
   "source": [
    "# impory solar.txt as np.array\n",
    "tensor = np.loadtxt('/data/fang/BayTIDE_data/raw/solar.txt', delimiter=',')\n",
    "\n",
    "\n",
    "tensor = tensor.T\n",
    "print(tensor.shape)\n",
    "\n",
    "# check nan, max and min and mean\n",
    "print(np.isnan(tensor).any())\n",
    "print(np.nanmax(tensor))\n",
    "print(np.nanmin(tensor))\n",
    "print(np.nanmean(tensor))\n",
    "\n"
   ]
  },
  {
   "cell_type": "code",
   "execution_count": 6,
   "metadata": {},
   "outputs": [],
   "source": [
    "sub_tensor = tensor\n",
    "\n",
    "data_save = {}\n",
    "data_save['ndims'] = sub_tensor.shape\n",
    "\n",
    "data_save['raw_data'] = sub_tensor\n",
    "\n",
    "data_save['data'] = []\n",
    "\n",
    "# sorted unique timestamps, set as (normalized to 0-1 ) regular time intervals at current stage\n",
    "data_save['time_uni'] = np.linspace(0,1,sub_tensor.shape[1])\n",
    "\n",
    "def generate_random_mask( shape, drop_rate=0.2, valid_rate=0.1):\n",
    "    \"\"\"\n",
    "    train_ratio: 1-valid_rate-drop_rate\n",
    "    test_ratio: drop_rate\n",
    "    valid_ratio: valid_rate\n",
    "    \"\"\"\n",
    "    N,T = shape\n",
    "\n",
    "    train_T = int(T*(1-valid_rate-drop_rate))\n",
    "\n",
    "    T_index = np.arange(T)\n",
    "\n",
    "    np.random.shuffle(T_index)\n",
    "\n",
    "    mask_train = np.zeros((N,T))\n",
    "    mask_test = np.zeros((N,T))\n",
    "    mask_valid = np.zeros((N,T))\n",
    "\n",
    "    mask_train[:,T_index[:train_T]] = 1\n",
    "    mask_test[:,T_index[train_T:train_T+int(T*drop_rate)]] = 1\n",
    "    mask_valid[:,T_index[train_T+int(T*drop_rate):]] = 1\n",
    "\n",
    "    return mask_train, mask_test, mask_valid\n",
    "\n",
    "fold = 2\n",
    "drop_rate = 0.4\n",
    "valid_rate = 0.1\n",
    "\n",
    "for i in range(fold):\n",
    "    mask_train, mask_test, mask_valid = generate_random_mask(sub_tensor.shape, drop_rate, valid_rate)\n",
    "    data_save['data'].append({'mask_train':mask_train, 'mask_test':mask_test, 'mask_valid':mask_valid})\n",
    "\n",
    "file_name = '/data/fang/BayTIDE_data/solar_impute'+'_r_%.1f'%(drop_rate)+'_irregulate.npy'\n",
    "np.save(file_name, data_save)\n"
   ]
  },
  {
   "cell_type": "code",
   "execution_count": 8,
   "metadata": {},
   "outputs": [
    {
     "data": {
      "text/plain": [
       "0.49999430612494306"
      ]
     },
     "execution_count": 8,
     "metadata": {},
     "output_type": "execute_result"
    }
   ],
   "source": [
    "mask_train.sum()/mask_train.size"
   ]
  }
 ],
 "metadata": {
  "kernelspec": {
   "display_name": "pytorch",
   "language": "python",
   "name": "python3"
  },
  "language_info": {
   "codemirror_mode": {
    "name": "ipython",
    "version": 3
   },
   "file_extension": ".py",
   "mimetype": "text/x-python",
   "name": "python",
   "nbconvert_exporter": "python",
   "pygments_lexer": "ipython3",
   "version": "3.10.8"
  },
  "orig_nbformat": 4
 },
 "nbformat": 4,
 "nbformat_minor": 2
}
