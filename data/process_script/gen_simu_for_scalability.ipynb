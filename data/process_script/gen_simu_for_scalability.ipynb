{
 "cells": [
  {
   "cell_type": "code",
   "execution_count": 5,
   "metadata": {},
   "outputs": [],
   "source": [
    "import numpy as np\n",
    "import matplotlib.pyplot as plt"
   ]
  },
  {
   "cell_type": "code",
   "execution_count": 3,
   "metadata": {},
   "outputs": [],
   "source": [
    "C = 500  # number of channels\n",
    "\n",
    "T = 500 # number of time steps\n",
    "\n",
    "data = np.random.randn(C, T)"
   ]
  },
  {
   "attachments": {},
   "cell_type": "markdown",
   "metadata": {},
   "source": []
  },
  {
   "cell_type": "code",
   "execution_count": 22,
   "metadata": {},
   "outputs": [],
   "source": [
    "C = 4000  # number of channels\n",
    "\n",
    "T = 1000 # number of time steps\n",
    "\n",
    "data = np.random.randn(C, T)\n",
    "\n",
    "data_save = {}\n",
    "data_save['ndims'] = data.shape\n",
    "\n",
    "data_save['raw_data'] = data\n",
    "\n",
    "# data_save['clean_data'] = data_clean\n",
    "\n",
    "# data_save['weight'] = weight\n",
    "\n",
    "data_save['data'] = []\n",
    "\n",
    "# sorted unique timestamps, set as (normalized to 0-1 ) regular time intervals at current stage\n",
    "data_save['time_uni'] = np.linspace(0,1,data.shape[1])\n",
    "\n",
    "def generate_random_mask( shape, drop_rate=0.2, valid_rate=0.1):\n",
    "    \"\"\"\n",
    "    train_ratio: 1-valid_rate-drop_rate\n",
    "    test_ratio: drop_rate\n",
    "    valid_ratio: valid_rate\n",
    "    \"\"\"\n",
    "    N,T = data.shape\n",
    "\n",
    "    mask_train_list = []\n",
    "    mask_test_list = []\n",
    "    mask_valid_list = []\n",
    "\n",
    "    for t in range(T):\n",
    "\n",
    "        mask = np.random.rand(N)\n",
    "        mask_train = np.where(mask>drop_rate+valid_rate, 1, 0)\n",
    "        mask_test = np.where(mask<drop_rate, 1, 0)\n",
    "        mask_valid = np.where((mask>drop_rate) & (mask<drop_rate+valid_rate), 1, 0)\n",
    "\n",
    "        mask_train_list.append(mask_train)\n",
    "        mask_test_list.append(mask_test)\n",
    "        mask_valid_list.append(mask_valid)\n",
    "    \n",
    "    mask_train = np.stack(mask_train_list, axis=1)\n",
    "    mask_test = np.stack(mask_test_list, axis=1)\n",
    "    mask_valid = np.stack(mask_valid_list, axis=1)\n",
    "\n",
    "    return mask_train, mask_test, mask_valid\n",
    "\n",
    "fold = 1\n",
    "drop_rate = 0.8\n",
    "valid_rate = 0.0\n",
    "\n",
    "for i in range(fold):\n",
    "    mask_train, mask_test, mask_valid = generate_random_mask(data.shape, drop_rate, valid_rate)\n",
    "    data_save['data'].append({'mask_train':mask_train, 'mask_test':mask_test, 'mask_valid':mask_valid})\n",
    "\n",
    "file_name = '../simu_scalable/D_' +str(C)+'_T_'+str(T)+ '.npy'\n",
    "np.save(file_name, data_save)\n"
   ]
  }
 ],
 "metadata": {
  "kernelspec": {
   "display_name": "pytorch",
   "language": "python",
   "name": "python3"
  },
  "language_info": {
   "codemirror_mode": {
    "name": "ipython",
    "version": 3
   },
   "file_extension": ".py",
   "mimetype": "text/x-python",
   "name": "python",
   "nbconvert_exporter": "python",
   "pygments_lexer": "ipython3",
   "version": "3.9.13"
  },
  "orig_nbformat": 4
 },
 "nbformat": 4,
 "nbformat_minor": 2
}
